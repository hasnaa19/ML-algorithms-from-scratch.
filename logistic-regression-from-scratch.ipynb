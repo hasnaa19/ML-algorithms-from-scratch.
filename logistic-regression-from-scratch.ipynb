{
 "cells": [
  {
   "cell_type": "code",
   "execution_count": 1,
   "id": "02e4feb0",
   "metadata": {
    "_cell_guid": "b1076dfc-b9ad-4769-8c92-a6c4dae69d19",
    "_uuid": "8f2839f25d086af736a60e9eeb907d3b93b6e0e5",
    "execution": {
     "iopub.execute_input": "2022-10-10T12:06:39.182330Z",
     "iopub.status.busy": "2022-10-10T12:06:39.181528Z",
     "iopub.status.idle": "2022-10-10T12:06:39.201329Z",
     "shell.execute_reply": "2022-10-10T12:06:39.200412Z"
    },
    "papermill": {
     "duration": 0.029848,
     "end_time": "2022-10-10T12:06:39.203766",
     "exception": false,
     "start_time": "2022-10-10T12:06:39.173918",
     "status": "completed"
    },
    "tags": []
   },
   "outputs": [
    {
     "name": "stdout",
     "output_type": "stream",
     "text": [
      "/kaggle/input/dataset/ex2data1.txt\n"
     ]
    }
   ],
   "source": [
    "import numpy as np # linear algebra\n",
    "import pandas as pd # data processing, CSV file I/O (e.g. pd.read_csv)\n",
    "import os\n",
    "import math\n",
    "import matplotlib.pyplot as plt\n",
    "for dirname, _, filenames in os.walk('/kaggle/input'):\n",
    "    for filename in filenames:\n",
    "        print(os.path.join(dirname, filename))\n"
   ]
  },
  {
   "cell_type": "code",
   "execution_count": 2,
   "id": "2d3dbae6",
   "metadata": {
    "execution": {
     "iopub.execute_input": "2022-10-10T12:06:39.212914Z",
     "iopub.status.busy": "2022-10-10T12:06:39.212242Z",
     "iopub.status.idle": "2022-10-10T12:06:39.233044Z",
     "shell.execute_reply": "2022-10-10T12:06:39.232145Z"
    },
    "papermill": {
     "duration": 0.027899,
     "end_time": "2022-10-10T12:06:39.235469",
     "exception": false,
     "start_time": "2022-10-10T12:06:39.207570",
     "status": "completed"
    },
    "tags": []
   },
   "outputs": [],
   "source": [
    "def sigmoid(z):\n",
    "    return 1/(1+math.exp(-z))\n",
    "\n",
    "def compute_cost(X, y, w, b):\n",
    "    m,n = X.shape\n",
    "    cost= 0\n",
    "    for i in range(m):\n",
    "        z = np.dot(X[i], w) +b\n",
    "        pred = sigmoid(z)\n",
    "        if y[i]==1:\n",
    "            cost += - math.log2(pred)\n",
    "        else:\n",
    "            cost += - math.log2(1-pred)\n",
    "    cost/=m\n",
    "    return cost\n",
    "\n",
    "def compute_gradient(X, y, w, b):\n",
    "    m,n = X.shape\n",
    "    d_dw = np.zeros(n)\n",
    "    d_db = 0\n",
    "    for i in range(m):\n",
    "        z = np.dot(X[i], w) +b\n",
    "        pred = sigmoid(z)\n",
    "        d_db += (pred - y[i])\n",
    "        for j in range(n):\n",
    "            d_dw[j] += (pred - y[i]) * X[i,j]\n",
    "    d_dw /=m\n",
    "    d_db /= m\n",
    "    return d_dw, d_db\n",
    "\n",
    "def gradient_descent(X,y,w_init,b_init, alpha, epsilon, iterations):\n",
    "    w = w_init\n",
    "    b = b_init\n",
    "    m,n = X.shape\n",
    "    cost = compute_cost(X,y,w,b)\n",
    "    itr =0\n",
    "    J_history=[]\n",
    "    while cost>epsilon and itr<iterations:\n",
    "        d_dw, d_db = compute_gradient(X,y,w,b)\n",
    "        w = w - alpha*d_dw\n",
    "        b = b - alpha * d_db\n",
    "        cost = compute_cost(X,y,w,b)\n",
    "        if itr<100000:    \n",
    "            J_history.append(cost)  # needed for plotting the learning curve\n",
    "        itr +=1 \n",
    "    return w, b, itr, J_history"
   ]
  },
  {
   "cell_type": "code",
   "execution_count": 3,
   "id": "20adca6c",
   "metadata": {
    "execution": {
     "iopub.execute_input": "2022-10-10T12:06:39.245527Z",
     "iopub.status.busy": "2022-10-10T12:06:39.244831Z",
     "iopub.status.idle": "2022-10-10T12:06:39.262917Z",
     "shell.execute_reply": "2022-10-10T12:06:39.261417Z"
    },
    "papermill": {
     "duration": 0.026,
     "end_time": "2022-10-10T12:06:39.265309",
     "exception": false,
     "start_time": "2022-10-10T12:06:39.239309",
     "status": "completed"
    },
    "tags": []
   },
   "outputs": [
    {
     "name": "stdout",
     "output_type": "stream",
     "text": [
      "First 5 elements in X-train:\n",
      " [[30.28671077 43.89499752]\n",
      " [35.84740877 72.90219803]\n",
      " [60.18259939 86.3085521 ]\n",
      " [79.03273605 75.34437644]\n",
      " [45.08327748 56.31637178]]\n",
      "Their actual class is: \n",
      " [0. 0. 1. 1. 0.]\n"
     ]
    }
   ],
   "source": [
    "df = np.array(pd.read_csv('../input/dataset/ex2data1.txt'))\n",
    "x = df[:, :2]\n",
    "y = df[:, 2]\n",
    "print(f\"First 5 elements in X-train:\\n {x[:5]}\")\n",
    "print(f\"Their actual class is: \\n {y[:5]}\")"
   ]
  },
  {
   "cell_type": "code",
   "execution_count": 4,
   "id": "fa563584",
   "metadata": {
    "execution": {
     "iopub.execute_input": "2022-10-10T12:06:39.274917Z",
     "iopub.status.busy": "2022-10-10T12:06:39.274466Z",
     "iopub.status.idle": "2022-10-10T12:06:39.280497Z",
     "shell.execute_reply": "2022-10-10T12:06:39.279361Z"
    },
    "papermill": {
     "duration": 0.013976,
     "end_time": "2022-10-10T12:06:39.283530",
     "exception": false,
     "start_time": "2022-10-10T12:06:39.269554",
     "status": "completed"
    },
    "tags": []
   },
   "outputs": [
    {
     "name": "stdout",
     "output_type": "stream",
     "text": [
      "Type of X-train : <class 'numpy.ndarray'>. \n",
      " It's Shape: (99, 2).\n",
      "Type of y-train : <class 'numpy.ndarray'>. \n",
      " It's Shape: (99,).\n"
     ]
    }
   ],
   "source": [
    "print(f\"Type of X-train : {type(x)}. \\n It's Shape: {x.shape}.\")\n",
    "print(f\"Type of y-train : {type(y)}. \\n It's Shape: {y.shape}.\")"
   ]
  },
  {
   "cell_type": "code",
   "execution_count": 5,
   "id": "8c4f8479",
   "metadata": {
    "execution": {
     "iopub.execute_input": "2022-10-10T12:06:39.293913Z",
     "iopub.status.busy": "2022-10-10T12:06:39.293296Z",
     "iopub.status.idle": "2022-10-10T12:06:39.557172Z",
     "shell.execute_reply": "2022-10-10T12:06:39.556150Z"
    },
    "papermill": {
     "duration": 0.272052,
     "end_time": "2022-10-10T12:06:39.560300",
     "exception": false,
     "start_time": "2022-10-10T12:06:39.288248",
     "status": "completed"
    },
    "tags": []
   },
   "outputs": [
    {
     "data": {
      "image/png": "[encoded data removed]",
      "text/plain": [
       "<Figure size 432x288 with 1 Axes>"
      ]
     },
     "metadata": {
      "needs_background": "light"
     },
     "output_type": "display_data"
    }
   ],
   "source": [
    "# Scatter plot of the training data\n",
    "def plot_data(x,y, pos_label = 'y=1', neg_label='y=0'): #plot_data() is a function to plot your training data and able to diffrentiate between positive(1) and negative'0' classes\n",
    "    pos = y == 1 #pos now is boolean array of size  n [true, false,......]\n",
    "    neg = y == 0 \n",
    "    plt.plot(x[pos,0],x[pos,1], 'r+', label=pos_label)\n",
    "    plt.plot(x[neg,0],x[neg,1], 'yo', label=neg_label)\n",
    "# Set the y-axis label\n",
    "plot_data(x,y,'Admitted','Not admitted')\n",
    "plt.ylabel('Exam 2 score') \n",
    "# Set the x-axis label\n",
    "plt.xlabel('Exam 1 score') \n",
    "plt.legend(loc=\"upper right\")\n",
    "plt.show()"
   ]
  },
  {
   "cell_type": "code",
   "execution_count": 6,
   "id": "d3313a24",
   "metadata": {
    "execution": {
     "iopub.execute_input": "2022-10-10T12:06:39.570324Z",
     "iopub.status.busy": "2022-10-10T12:06:39.569895Z",
     "iopub.status.idle": "2022-10-10T12:09:54.835429Z",
     "shell.execute_reply": "2022-10-10T12:09:54.833939Z"
    },
    "papermill": {
     "duration": 195.274177,
     "end_time": "2022-10-10T12:09:54.838547",
     "exception": false,
     "start_time": "2022-10-10T12:06:39.564370",
     "status": "completed"
    },
    "tags": []
   },
   "outputs": [],
   "source": [
    "m,n = x.shape\n",
    "initial_w = np.zeros(n)\n",
    "initial_b = 0\n",
    "alpha = 0.004\n",
    "iterations = 300000\n",
    "epsilon=0.1\n",
    "w,b,itr, J_history = gradient_descent(x,y,initial_w, initial_b,alpha, epsilon,iterations)"
   ]
  },
  {
   "cell_type": "code",
   "execution_count": 7,
   "id": "bdaf64b8",
   "metadata": {
    "execution": {
     "iopub.execute_input": "2022-10-10T12:09:54.849563Z",
     "iopub.status.busy": "2022-10-10T12:09:54.849132Z",
     "iopub.status.idle": "2022-10-10T12:09:54.857162Z",
     "shell.execute_reply": "2022-10-10T12:09:54.855675Z"
    },
    "papermill": {
     "duration": 0.016586,
     "end_time": "2022-10-10T12:09:54.859703",
     "exception": false,
     "start_time": "2022-10-10T12:09:54.843117",
     "status": "completed"
    },
    "tags": []
   },
   "outputs": [
    {
     "name": "stdout",
     "output_type": "stream",
     "text": [
      "Best values for Weights: [0.19614584 0.19261095]\n",
      "Best value for b parameters: -23.968418475056843\n",
      "Those weights produce a cost equals: 0.29529682038102134\n",
      "Gradient Decent reached those values after 300000 iterations.\n"
     ]
    }
   ],
   "source": [
    "print(f\"Best values for Weights: {w}\")\n",
    "print(f\"Best value for b parameters: {b}\")\n",
    "cost = compute_cost(x,y,w,b)\n",
    "print(f\"Those weights produce a cost equals: {cost}\")\n",
    "print(f\"Gradient Decent reached those values after {itr} iterations.\")"
   ]
  },
  {
   "cell_type": "code",
   "execution_count": 8,
   "id": "ed274436",
   "metadata": {
    "execution": {
     "iopub.execute_input": "2022-10-10T12:09:54.870130Z",
     "iopub.status.busy": "2022-10-10T12:09:54.869464Z",
     "iopub.status.idle": "2022-10-10T12:09:55.099023Z",
     "shell.execute_reply": "2022-10-10T12:09:55.097881Z"
    },
    "papermill": {
     "duration": 0.2378,
     "end_time": "2022-10-10T12:09:55.101718",
     "exception": false,
     "start_time": "2022-10-10T12:09:54.863918",
     "status": "completed"
    },
    "tags": []
   },
   "outputs": [
    {
     "data": {
      "image/png": "[encoded data removed]",
      "text/plain": [
       "<Figure size 432x288 with 1 Axes>"
      ]
     },
     "metadata": {
      "needs_background": "light"
     },
     "output_type": "display_data"
    }
   ],
   "source": [
    "def plot_decision_boundary(w, b, X, y):\n",
    "    # This part works only when we have max of 2 features (C!W# utils.py for more), Credit to dibgerge on Github for this plotting code \n",
    "    \n",
    "    plot_data(X[:, 0:2], y)  #scattering the data points \n",
    "    plot_x = np.array([min(X[:, 0]), max(X[:, 0])])  # plotting the decision boundry 'straigh line' using 2 graph point (X_minVal, crossponding_y) = y-intercept, (X_maxVal, crossponfing_y)\n",
    "    plot_y = (-1. / w[1]) * (w[0] * plot_x + b)  #w1x1+w2x2+b=0, w1x1+b=-w2x2, x2= (w1x1+b)/-w2  to calculate the movement on the y-axis which represents the second feature'Exam 2 score'\n",
    "    plt.plot(plot_x, plot_y, c=\"b\")\n",
    "        \n",
    "plot_decision_boundary(w,b,x,y)"
   ]
  },
  {
   "cell_type": "code",
   "execution_count": 9,
   "id": "8d237e91",
   "metadata": {
    "execution": {
     "iopub.execute_input": "2022-10-10T12:09:55.112389Z",
     "iopub.status.busy": "2022-10-10T12:09:55.111984Z",
     "iopub.status.idle": "2022-10-10T12:09:55.119904Z",
     "shell.execute_reply": "2022-10-10T12:09:55.118838Z"
    },
    "papermill": {
     "duration": 0.015838,
     "end_time": "2022-10-10T12:09:55.122215",
     "exception": false,
     "start_time": "2022-10-10T12:09:55.106377",
     "status": "completed"
    },
    "tags": []
   },
   "outputs": [],
   "source": [
    "def predict(x,w,b, threshold=0.5):\n",
    "    m,n = x.shape\n",
    "    p = np.zeros(m)\n",
    "    for i in range(m):\n",
    "        z = np.dot(w,x[i])+b\n",
    "        f_x = sigmoid(z)\n",
    "        if f_x>= 0.5:\n",
    "            p[i] = 1\n",
    "        else:\n",
    "            p[i] = 0\n",
    "    return p\n",
    "def accuracy(y_pred, y):\n",
    "    m = len(y)\n",
    "    acc = 0\n",
    "    for i in range(m):\n",
    "        if y_pred[i] == y[i]:\n",
    "            acc +=1\n",
    "    acc = (acc/m)*100\n",
    "    return acc"
   ]
  },
  {
   "cell_type": "code",
   "execution_count": 10,
   "id": "1bbaea3f",
   "metadata": {
    "execution": {
     "iopub.execute_input": "2022-10-10T12:09:55.133133Z",
     "iopub.status.busy": "2022-10-10T12:09:55.132002Z",
     "iopub.status.idle": "2022-10-10T12:09:55.138752Z",
     "shell.execute_reply": "2022-10-10T12:09:55.137768Z"
    },
    "papermill": {
     "duration": 0.014411,
     "end_time": "2022-10-10T12:09:55.140970",
     "exception": false,
     "start_time": "2022-10-10T12:09:55.126559",
     "status": "completed"
    },
    "tags": []
   },
   "outputs": [
    {
     "name": "stdout",
     "output_type": "stream",
     "text": [
      "88.88888888888889\n"
     ]
    }
   ],
   "source": [
    "# use the predict function to make prediction of X_train and test the accuracy of the chosen parameters using accuracy\n",
    "y_pred = predict(x,w,b)\n",
    "print(accuracy(y_pred, y))"
   ]
  },
  {
   "cell_type": "code",
   "execution_count": null,
   "id": "db46d800",
   "metadata": {
    "papermill": {
     "duration": 0.003976,
     "end_time": "2022-10-10T12:09:55.149290",
     "exception": false,
     "start_time": "2022-10-10T12:09:55.145314",
     "status": "completed"
    },
    "tags": []
   },
   "outputs": [],
   "source": []
  }
 ],
 "metadata": {
  "kernelspec": {
   "display_name": "Python 3",
   "language": "python",
   "name": "python3"
  },
  "language_info": {
   "codemirror_mode": {
    "name": "ipython",
    "version": 3
   },
   "file_extension": ".py",
   "mimetype": "text/x-python",
   "name": "python",
   "nbconvert_exporter": "python",
   "pygments_lexer": "ipython3",
   "version": "3.7.12"
  },
  "papermill": {
   "default_parameters": {},
   "duration": 205.971199,
   "end_time": "2022-10-10T12:09:56.075581",
   "environment_variables": {},
   "exception": null,
   "input_path": "__notebook__.ipynb",
   "output_path": "__notebook__.ipynb",
   "parameters": {},
   "start_time": "2022-10-10T12:06:30.104382",
   "version": "2.3.4"
  }
 },
 "nbformat": 4,
 "nbformat_minor": 5
}
