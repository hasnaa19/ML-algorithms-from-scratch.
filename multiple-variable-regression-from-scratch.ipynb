{
 "cells": [
  {
   "cell_type": "code",
   "execution_count": 1,
   "id": "53a8fe8f",
   "metadata": {
    "_cell_guid": "b1076dfc-b9ad-4769-8c92-a6c4dae69d19",
    "_uuid": "8f2839f25d086af736a60e9eeb907d3b93b6e0e5",
    "execution": {
     "iopub.execute_input": "2022-10-09T20:36:07.973504Z",
     "iopub.status.busy": "2022-10-09T20:36:07.972926Z",
     "iopub.status.idle": "2022-10-09T20:36:07.987753Z",
     "shell.execute_reply": "2022-10-09T20:36:07.985943Z"
    },
    "papermill": {
     "duration": 0.025019,
     "end_time": "2022-10-09T20:36:07.991045",
     "exception": false,
     "start_time": "2022-10-09T20:36:07.966026",
     "status": "completed"
    },
    "tags": []
   },
   "outputs": [],
   "source": [
    "import numpy as np # linear algebra\n",
    "import pandas as pd # data processing, CSV file I/O (e.g. pd.read_csv)\n",
    "import os\n",
    "import matplotlib.pyplot as plt\n",
    "for dirname, _, filenames in os.walk('/kaggle/input'):\n",
    "    for filename in filenames:\n",
    "        print(os.path.join(dirname, filename))"
   ]
  },
  {
   "cell_type": "code",
   "execution_count": 2,
   "id": "071c82a2",
   "metadata": {
    "execution": {
     "iopub.execute_input": "2022-10-09T20:36:08.003879Z",
     "iopub.status.busy": "2022-10-09T20:36:08.003573Z",
     "iopub.status.idle": "2022-10-09T20:36:08.014342Z",
     "shell.execute_reply": "2022-10-09T20:36:08.013441Z"
    },
    "papermill": {
     "duration": 0.021195,
     "end_time": "2022-10-09T20:36:08.016370",
     "exception": false,
     "start_time": "2022-10-09T20:36:07.995175",
     "status": "completed"
    },
    "tags": []
   },
   "outputs": [],
   "source": [
    "# Needed function to implement multiple variable regression from scratch \n",
    "\n",
    "def predict(w,X,b):\n",
    "    m = X.shape[0]\n",
    "    y_hat = np.zeros(m)\n",
    "    for i in range(m):\n",
    "        y_hat[i] = np.dot(w,X[i])+b\n",
    "    return y_hat\n",
    "\n",
    "def cost(y_hat, y):\n",
    "    m = len(y)\n",
    "    error=0\n",
    "    for i in range(m):\n",
    "        error+= (y[i]-y_hat[i])**2\n",
    "    cost = error/(2*m)\n",
    "    return cost\n",
    "\n",
    "def Gradient(X,y,b,w):\n",
    "    m,n = X.shape\n",
    "    derv_w = np.zeros((n,))\n",
    "    derv_b=0\n",
    "    for i in range(m):\n",
    "        err = (np.dot(X[i],w)+b)-y[i]\n",
    "        derv_b += err\n",
    "        for j in range(n):\n",
    "            derv_w[j] += err * X[i,j]\n",
    "    derv_b = derv_b/ m\n",
    "    derv_w = derv_w/ m\n",
    "    return derv_w, derv_b\n",
    "        \n",
    "def gradient_descent(w_init, b_init, X, y, epsilon, alpha):\n",
    "    y_hat = predict(w_init, X, b_init)\n",
    "    J_wb = cost(y_hat, y)\n",
    "    w = w_init\n",
    "    b = b_init\n",
    "    itr = 0\n",
    "    J_history=[]\n",
    "    while J_wb > epsilon:\n",
    "        derv_w, derv_b = Gradient(X,y,b, w)\n",
    "        w = w - (alpha * derv_w)\n",
    "        b = b - (alpha * derv_b)\n",
    "        y_hat = predict(w, X, b)\n",
    "        J_wb = cost(y_hat, y)\n",
    "        if itr<100000:    \n",
    "            J_history.append(J_wb)  # needed for plotting the learning curve\n",
    "        itr +=1 \n",
    "    return w, b, itr, J_history"
   ]
  },
  {
   "cell_type": "code",
   "execution_count": 3,
   "id": "c5fdc49a",
   "metadata": {
    "execution": {
     "iopub.execute_input": "2022-10-09T20:36:08.022576Z",
     "iopub.status.busy": "2022-10-09T20:36:08.021938Z",
     "iopub.status.idle": "2022-10-09T21:10:02.319434Z",
     "shell.execute_reply": "2022-10-09T21:10:02.318380Z"
    },
    "papermill": {
     "duration": 2034.303669,
     "end_time": "2022-10-09T21:10:02.322483",
     "exception": false,
     "start_time": "2022-10-09T20:36:08.018814",
     "status": "completed"
    },
    "tags": []
   },
   "outputs": [],
   "source": [
    "X_train = np.array([[2104, 5, 1, 45], [1416, 3, 2, 40], [852, 2, 1, 35]])\n",
    "y_train = np.array([460, 232, 178])\n",
    "b_init = 0\n",
    "w_init = np.array([ 0, 0, 0, 0])\n",
    "\n",
    "alpha = 5.0e-7\n",
    "epsilon = 0.001\n",
    "best_w, best_b, itr, J_history = gradient_descent(w_init, b_init,X_train, y_train, epsilon, alpha)"
   ]
  },
  {
   "cell_type": "code",
   "execution_count": 4,
   "id": "f5ae9dbc",
   "metadata": {
    "execution": {
     "iopub.execute_input": "2022-10-09T21:10:02.329428Z",
     "iopub.status.busy": "2022-10-09T21:10:02.329108Z",
     "iopub.status.idle": "2022-10-09T21:10:02.335958Z",
     "shell.execute_reply": "2022-10-09T21:10:02.334676Z"
    },
    "papermill": {
     "duration": 0.015407,
     "end_time": "2022-10-09T21:10:02.340962",
     "exception": false,
     "start_time": "2022-10-09T21:10:02.325555",
     "status": "completed"
    },
    "tags": []
   },
   "outputs": [
    {
     "name": "stdout",
     "output_type": "stream",
     "text": [
      "Best values for Weights: [  0.15452104  23.44029954 -65.605007     1.82278279]\n",
      "Best value for b parameters: 1.2386298496039263\n",
      "Those weights produce a cost equals: 0.000999999968114962\n",
      "Gradient Decent reached those values after 55987122 iterations.\n"
     ]
    }
   ],
   "source": [
    "print(f\"Best values for Weights: {best_w}\")\n",
    "print(f\"Best value for b parameters: {best_b}\")\n",
    "y_hat = predict(best_w, X_train, best_b)\n",
    "J = cost(y_hat, y_train)\n",
    "print(f\"Those weights produce a cost equals: {J}\")\n",
    "print(f\"Gradient Decent reached those values after {itr} iterations.\")"
   ]
  },
  {
   "cell_type": "code",
   "execution_count": 5,
   "id": "2971ed60",
   "metadata": {
    "execution": {
     "iopub.execute_input": "2022-10-09T21:10:02.347063Z",
     "iopub.status.busy": "2022-10-09T21:10:02.346806Z",
     "iopub.status.idle": "2022-10-09T21:10:02.885000Z",
     "shell.execute_reply": "2022-10-09T21:10:02.884003Z"
    },
    "papermill": {
     "duration": 0.544173,
     "end_time": "2022-10-09T21:10:02.887515",
     "exception": false,
     "start_time": "2022-10-09T21:10:02.343342",
     "status": "completed"
    },
    "tags": []
   },
   "outputs": [
    {
     "data": {
      "text/plain": [
       "Text(0.5, 0, 'iteration step')"
      ]
     },
     "execution_count": 5,
     "metadata": {},
     "output_type": "execute_result"
    },
    {
     "data": {
      "image/png": "[encoded data removed]",
      "text/plain": [
       "<Figure size 864x288 with 2 Axes>"
      ]
     },
     "metadata": {
      "needs_background": "light"
     },
     "output_type": "display_data"
    }
   ],
   "source": [
    "# plot the learning curve which is cost versus iteration to make sure that gradient descent works correct  \n",
    "fig, (ax1, ax2) = plt.subplots(1, 2, constrained_layout=True, figsize=(12, 4))\n",
    "ax1.plot(J_history)\n",
    "ax2.plot(100 + np.arange(len(J_history[100:])), J_history[100:])\n",
    "ax1.set_title(\"Cost vs. iteration\");  ax2.set_title(\"Cost vs. iteration (tail)\")\n",
    "ax1.set_ylabel('Cost')             ;  ax2.set_ylabel('Cost') \n",
    "ax1.set_xlabel('iteration step')   ;  ax2.set_xlabel('iteration step') \n",
    "# plt.show()"
   ]
  },
  {
   "cell_type": "code",
   "execution_count": 6,
   "id": "31f117f2",
   "metadata": {
    "execution": {
     "iopub.execute_input": "2022-10-09T21:10:02.894759Z",
     "iopub.status.busy": "2022-10-09T21:10:02.894441Z",
     "iopub.status.idle": "2022-10-09T21:10:02.904602Z",
     "shell.execute_reply": "2022-10-09T21:10:02.903779Z"
    },
    "papermill": {
     "duration": 0.016263,
     "end_time": "2022-10-09T21:10:02.906867",
     "exception": false,
     "start_time": "2022-10-09T21:10:02.890604",
     "status": "completed"
    },
    "tags": []
   },
   "outputs": [],
   "source": [
    "# Replace cost() and gradient_decent() function with those if you want a regularized implementation of your code, helps you avoide over-fitting\n",
    "def cost_regularized(y_hat, y, w, lambda_):\n",
    "    m = len(y)\n",
    "    error=0\n",
    "    for i in range(m):\n",
    "        error+= (y[i]-y_hat[i])**2\n",
    "    cost = error/(2*m)\n",
    "    n = len(w)\n",
    "    reg_term  =0\n",
    "    for j in range(n):\n",
    "        reg_term += (w[j]**2)\n",
    "    reg_term = reg_term* (lambda_/(2*m))\n",
    "    cost+= reg_term\n",
    "    return cost\n",
    "\n",
    "def gradient_descent_regularized(w_init, b_init, X, y, epsilon, alpha):\n",
    "    y_hat = predict(w_init, X, b_init)\n",
    "    n = len(w_init)\n",
    "    J_wb = cost(y_hat, y)\n",
    "    w = w_init\n",
    "    b = b_init\n",
    "    itr = 0\n",
    "    J_history=[]\n",
    "    while J_wb > epsilon:\n",
    "        derv_w, derv_b = Gradient(X,y,b, w)\n",
    "        for j in range(n):\n",
    "            derv_w[j] += (lambda_/(2*m)) *w[j]\n",
    "        w = w - (alpha * derv_w)\n",
    "        b = b - (alpha * derv_b)\n",
    "        y_hat = predict(w, X, b)\n",
    "        J_wb = cost(y_hat, y)\n",
    "        if itr<100000:    \n",
    "            J_history.append(J_wb)  # needed for plotting the learning curve\n",
    "        itr +=1 \n",
    "    return w, b, itr, J_history"
   ]
  },
  {
   "cell_type": "code",
   "execution_count": 7,
   "id": "994efaef",
   "metadata": {
    "execution": {
     "iopub.execute_input": "2022-10-09T21:10:02.913833Z",
     "iopub.status.busy": "2022-10-09T21:10:02.913565Z",
     "iopub.status.idle": "2022-10-09T21:10:02.920526Z",
     "shell.execute_reply": "2022-10-09T21:10:02.919278Z"
    },
    "papermill": {
     "duration": 0.014653,
     "end_time": "2022-10-09T21:10:02.924249",
     "exception": false,
     "start_time": "2022-10-09T21:10:02.909596",
     "status": "completed"
    },
    "tags": []
   },
   "outputs": [
    {
     "name": "stdout",
     "output_type": "stream",
     "text": [
      "Regularized cost: 0.07917239320214275\n"
     ]
    }
   ],
   "source": [
    "# Checking the implementation of cost_regularized()\n",
    "np.random.seed(1)  #to generate the same random numbers everyy time when using random.rand for X and w\n",
    "X = np.random.rand(5,6)\n",
    "y= np.array([0,1,0,1,0])\n",
    "w = np.random.rand(6,)-0.5\n",
    "b = 0.5\n",
    "y_hat = predict(w, X, b)\n",
    "lambda_ = 0.7\n",
    "cost_tmp = cost_regularized(y_hat, y, w, lambda_)\n",
    "\n",
    "print(\"Regularized cost:\", cost_tmp)"
   ]
  },
  {
   "cell_type": "code",
   "execution_count": null,
   "id": "1c1169dc",
   "metadata": {
    "papermill": {
     "duration": 0.003026,
     "end_time": "2022-10-09T21:10:02.931233",
     "exception": false,
     "start_time": "2022-10-09T21:10:02.928207",
     "status": "completed"
    },
    "tags": []
   },
   "outputs": [],
   "source": []
  }
 ],
 "metadata": {
  "kernelspec": {
   "display_name": "Python 3",
   "language": "python",
   "name": "python3"
  },
  "language_info": {
   "codemirror_mode": {
    "name": "ipython",
    "version": 3
   },
   "file_extension": ".py",
   "mimetype": "text/x-python",
   "name": "python",
   "nbconvert_exporter": "python",
   "pygments_lexer": "ipython3",
   "version": "3.7.12"
  },
  "papermill": {
   "default_parameters": {},
   "duration": 2043.281208,
   "end_time": "2022-10-09T21:10:03.456212",
   "environment_variables": {},
   "exception": null,
   "input_path": "__notebook__.ipynb",
   "output_path": "__notebook__.ipynb",
   "parameters": {},
   "start_time": "2022-10-09T20:36:00.175004",
   "version": "2.3.4"
  }
 },
 "nbformat": 4,
 "nbformat_minor": 5
}
