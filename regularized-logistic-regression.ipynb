{
 "cells": [
  {
   "cell_type": "code",
   "execution_count": 1,
   "id": "ff00051c",
   "metadata": {
    "_cell_guid": "b1076dfc-b9ad-4769-8c92-a6c4dae69d19",
    "_uuid": "8f2839f25d086af736a60e9eeb907d3b93b6e0e5",
    "execution": {
     "iopub.execute_input": "2022-10-10T11:34:15.634694Z",
     "iopub.status.busy": "2022-10-10T11:34:15.634208Z",
     "iopub.status.idle": "2022-10-10T11:34:15.654210Z",
     "shell.execute_reply": "2022-10-10T11:34:15.652514Z"
    },
    "papermill": {
     "duration": 0.030334,
     "end_time": "2022-10-10T11:34:15.657384",
     "exception": false,
     "start_time": "2022-10-10T11:34:15.627050",
     "status": "completed"
    },
    "tags": []
   },
   "outputs": [
    {
     "name": "stdout",
     "output_type": "stream",
     "text": [
      "/kaggle/input/reg-dataset/ex2data2.txt\n"
     ]
    }
   ],
   "source": [
    "import numpy as np # linear algebra\n",
    "import pandas as pd # data processing, CSV file I/O (e.g. pd.read_csv)\n",
    "import math\n",
    "import matplotlib.pyplot as plt\n",
    "import os\n",
    "for dirname, _, filenames in os.walk('/kaggle/input'):\n",
    "    for filename in filenames:\n",
    "        print(os.path.join(dirname, filename))\n"
   ]
  },
  {
   "cell_type": "code",
   "execution_count": 2,
   "id": "ab509bb3",
   "metadata": {
    "execution": {
     "iopub.execute_input": "2022-10-10T11:34:15.668673Z",
     "iopub.status.busy": "2022-10-10T11:34:15.668161Z",
     "iopub.status.idle": "2022-10-10T11:34:15.682679Z",
     "shell.execute_reply": "2022-10-10T11:34:15.681710Z"
    },
    "papermill": {
     "duration": 0.022228,
     "end_time": "2022-10-10T11:34:15.684698",
     "exception": false,
     "start_time": "2022-10-10T11:34:15.662470",
     "status": "completed"
    },
    "tags": []
   },
   "outputs": [],
   "source": [
    "df = np.array(pd.read_csv('../input/reg-dataset/ex2data2.txt'))\n",
    "X_train = df[:,:2]\n",
    "y_train = df[:, -1]"
   ]
  },
  {
   "cell_type": "code",
   "execution_count": 3,
   "id": "fd4157e7",
   "metadata": {
    "execution": {
     "iopub.execute_input": "2022-10-10T11:34:15.694956Z",
     "iopub.status.busy": "2022-10-10T11:34:15.694662Z",
     "iopub.status.idle": "2022-10-10T11:34:15.701423Z",
     "shell.execute_reply": "2022-10-10T11:34:15.699250Z"
    },
    "papermill": {
     "duration": 0.014818,
     "end_time": "2022-10-10T11:34:15.703967",
     "exception": false,
     "start_time": "2022-10-10T11:34:15.689149",
     "status": "completed"
    },
    "tags": []
   },
   "outputs": [
    {
     "name": "stdout",
     "output_type": "stream",
     "text": [
      "First 5 elements in X_train: [[-0.092742  0.68494 ]\n",
      " [-0.21371   0.69225 ]\n",
      " [-0.375     0.50219 ]\n",
      " [-0.51325   0.46564 ]\n",
      " [-0.52477   0.2098  ]]\n",
      "Shape of X_train: (117, 2), It's type is: <class 'numpy.ndarray'>\n",
      "First 5 elements in y_train: [1. 1. 1. 1. 1.]\n",
      "Shape of y_train: (117,), It's type is: <class 'numpy.ndarray'>\n"
     ]
    }
   ],
   "source": [
    "print(f\"First 5 elements in X_train: {X_train[:5]}\")\n",
    "print(f\"Shape of X_train: {X_train.shape}, It's type is: {type(X_train)}\")\n",
    "print(f\"First 5 elements in y_train: {y_train[:5]}\")\n",
    "print(f\"Shape of y_train: {y_train.shape}, It's type is: {type(y_train)}\")"
   ]
  },
  {
   "cell_type": "markdown",
   "id": "85af2a7a",
   "metadata": {
    "papermill": {
     "duration": 0.004092,
     "end_time": "2022-10-10T11:34:15.712628",
     "exception": false,
     "start_time": "2022-10-10T11:34:15.708536",
     "status": "completed"
    },
    "tags": []
   },
   "source": [
    "In order to better fit the data one may create more features by engineering the available features. Using map_feature() we will generate higher-dimensional features by mapping the features into all polynomial terms of  𝑥1 up to 𝑥6."
   ]
  },
  {
   "cell_type": "code",
   "execution_count": 4,
   "id": "9db1a87c",
   "metadata": {
    "execution": {
     "iopub.execute_input": "2022-10-10T11:34:15.723834Z",
     "iopub.status.busy": "2022-10-10T11:34:15.722485Z",
     "iopub.status.idle": "2022-10-10T11:34:15.729565Z",
     "shell.execute_reply": "2022-10-10T11:34:15.728644Z"
    },
    "papermill": {
     "duration": 0.014929,
     "end_time": "2022-10-10T11:34:15.731734",
     "exception": false,
     "start_time": "2022-10-10T11:34:15.716805",
     "status": "completed"
    },
    "tags": []
   },
   "outputs": [],
   "source": [
    "#mapping features into polynomial features\n",
    "def map_feature(X1, X2):\n",
    "    X1 = np.atleast_1d(X1)\n",
    "    X2 = np.atleast_1d(X2)\n",
    "    degree = 6\n",
    "    out = []\n",
    "    for i in range(1, degree+1):\n",
    "        for j in range(i + 1):\n",
    "            out.append((X1**(i-j) * (X2**j)))\n",
    "    return np.stack(out, axis=1)\n"
   ]
  },
  {
   "cell_type": "code",
   "execution_count": 5,
   "id": "1ae77dac",
   "metadata": {
    "execution": {
     "iopub.execute_input": "2022-10-10T11:34:15.743057Z",
     "iopub.status.busy": "2022-10-10T11:34:15.742466Z",
     "iopub.status.idle": "2022-10-10T11:34:15.749206Z",
     "shell.execute_reply": "2022-10-10T11:34:15.748272Z"
    },
    "papermill": {
     "duration": 0.014707,
     "end_time": "2022-10-10T11:34:15.750944",
     "exception": false,
     "start_time": "2022-10-10T11:34:15.736237",
     "status": "completed"
    },
    "tags": []
   },
   "outputs": [
    {
     "name": "stdout",
     "output_type": "stream",
     "text": [
      "Shape of X_train before mapping: \n",
      "(117, 27)\n",
      "Shape of X_train after mapping: \n",
      " (117, 2)\n"
     ]
    }
   ],
   "source": [
    "X_mapped = map_feature(X_train[:,0], X_train[:,1])\n",
    "print(f\"Shape of X_train before mapping: \\n{X_mapped.shape}\")\n",
    "print(f\"Shape of X_train after mapping: \\n {X_train.shape}\")"
   ]
  },
  {
   "cell_type": "code",
   "execution_count": 6,
   "id": "cb8a5cc6",
   "metadata": {
    "execution": {
     "iopub.execute_input": "2022-10-10T11:34:15.761556Z",
     "iopub.status.busy": "2022-10-10T11:34:15.760901Z",
     "iopub.status.idle": "2022-10-10T11:34:15.767229Z",
     "shell.execute_reply": "2022-10-10T11:34:15.765992Z"
    },
    "papermill": {
     "duration": 0.01402,
     "end_time": "2022-10-10T11:34:15.769541",
     "exception": false,
     "start_time": "2022-10-10T11:34:15.755521",
     "status": "completed"
    },
    "tags": []
   },
   "outputs": [],
   "source": [
    "# function to plot our data points\n",
    "def plot_data(x,y, pos_label = 'y=1', neg_label='y=0'): #plot_data() is a function to plot your training data and able to diffrentiate between positive(1) and negative'0' classes\n",
    "    pos = y == 1 #pos now is boolean array of size  n [true, false,......]\n",
    "    neg = y == 0 \n",
    "    plt.plot(x[pos,0],x[pos,1], 'r+', label=pos_label)\n",
    "    plt.plot(x[neg,0],x[neg,1], 'yo', label=neg_label)"
   ]
  },
  {
   "cell_type": "code",
   "execution_count": 7,
   "id": "50da5c97",
   "metadata": {
    "execution": {
     "iopub.execute_input": "2022-10-10T11:34:15.779985Z",
     "iopub.status.busy": "2022-10-10T11:34:15.779673Z",
     "iopub.status.idle": "2022-10-10T11:34:15.985683Z",
     "shell.execute_reply": "2022-10-10T11:34:15.984725Z"
    },
    "papermill": {
     "duration": 0.213692,
     "end_time": "2022-10-10T11:34:15.987851",
     "exception": false,
     "start_time": "2022-10-10T11:34:15.774159",
     "status": "completed"
    },
    "tags": []
   },
   "outputs": [
    {
     "data": {
      "image/png": "[encoded data removed]",
      "text/plain": [
       "<Figure size 432x288 with 1 Axes>"
      ]
     },
     "metadata": {
      "needs_background": "light"
     },
     "output_type": "display_data"
    }
   ],
   "source": [
    "#plotting our data\n",
    "plot_data(X_mapped, y_train)"
   ]
  },
  {
   "cell_type": "code",
   "execution_count": 8,
   "id": "5b977574",
   "metadata": {
    "execution": {
     "iopub.execute_input": "2022-10-10T11:34:15.999518Z",
     "iopub.status.busy": "2022-10-10T11:34:15.998523Z",
     "iopub.status.idle": "2022-10-10T11:34:16.012839Z",
     "shell.execute_reply": "2022-10-10T11:34:16.012120Z"
    },
    "papermill": {
     "duration": 0.022169,
     "end_time": "2022-10-10T11:34:16.014835",
     "exception": false,
     "start_time": "2022-10-10T11:34:15.992666",
     "status": "completed"
    },
    "tags": []
   },
   "outputs": [],
   "source": [
    "def sigmoid(z):\n",
    "    return 1/(1+math.exp(-z))\n",
    "\n",
    "def compute_cost_reg(X, y, w, b, lambda_):\n",
    "    m,n = X.shape\n",
    "    cost= 0\n",
    "    for i in range(m):\n",
    "        z = np.dot(X[i], w) +b\n",
    "        pred = sigmoid(z)\n",
    "        if y[i]==1:\n",
    "            cost += - math.log2(pred)\n",
    "        else:\n",
    "            cost += - math.log2(1-pred)\n",
    "    cost/=m\n",
    "    reg_term=0\n",
    "    for j in range(n):\n",
    "        reg_term+=(w[j]**2)\n",
    "    reg_term = reg_term * (lambda_/(2*m))\n",
    "    cost+=reg_term\n",
    "    return cost\n",
    "\n",
    "def compute_gradient_reg(X, y, w, b, lambda_):\n",
    "    m,n = X.shape\n",
    "    d_dw = np.zeros(n)\n",
    "    d_db = 0\n",
    "    for i in range(m):\n",
    "        z = np.dot(X[i], w) +b\n",
    "        pred = sigmoid(z)\n",
    "        d_db += (pred - y[i])\n",
    "        for j in range(n):\n",
    "            d_dw[j] += ((pred - y[i]) * X[i,j])+ w[j]* (lambda_/m)\n",
    "    d_dw /=m\n",
    "    d_db /= m\n",
    "    return d_dw, d_db\n",
    "\n",
    "def gradient_descent_reg(X,y,w_init,b_init, alpha, epsilon, iterations, lambda_): #this version of gradient descent terminate when either the cost reached a certain value'epsilon' after a certain number of iterations\n",
    "    w = w_init\n",
    "    b = b_init\n",
    "    m,n = X.shape\n",
    "    cost = compute_cost_reg(X,y,w,b, lambda_)\n",
    "    itr =0\n",
    "    J_history=[]\n",
    "    while cost>epsilon and itr < iterations:         \n",
    "        d_dw, d_db = compute_gradient_reg(X,y,w,b, lambda_)\n",
    "        w = w - alpha*d_dw\n",
    "        b = b - alpha * d_db\n",
    "        cost = compute_cost_reg(X,y,w,b,lambda_)\n",
    "        if itr<100000:    \n",
    "            J_history.append(cost)  # needed for plotting the learning curve\n",
    "        itr +=1 \n",
    "    return w, b, itr, J_history\n",
    "def predict(x,w,b, threshold=0.5):\n",
    "    m,n = x.shape\n",
    "    p = np.zeros(m)\n",
    "    for i in range(m):\n",
    "        z = np.dot(w,x[i])+b\n",
    "        f_x = sigmoid(z)\n",
    "        if f_x>= 0.5:\n",
    "            p[i] = 1\n",
    "        else:\n",
    "            p[i] = 0\n",
    "    return p\n",
    "def accuracy(y_pred, y):\n",
    "    m = len(y)\n",
    "    acc = 0\n",
    "    for i in range(m):\n",
    "        if y_pred[i] == y[i]:\n",
    "            acc +=1\n",
    "    acc = (acc/m)*100\n",
    "    return acc"
   ]
  },
  {
   "cell_type": "code",
   "execution_count": 9,
   "id": "e32e607e",
   "metadata": {
    "execution": {
     "iopub.execute_input": "2022-10-10T11:34:16.025807Z",
     "iopub.status.busy": "2022-10-10T11:34:16.025352Z",
     "iopub.status.idle": "2022-10-10T11:34:16.030532Z",
     "shell.execute_reply": "2022-10-10T11:34:16.029866Z"
    },
    "papermill": {
     "duration": 0.012874,
     "end_time": "2022-10-10T11:34:16.032344",
     "exception": false,
     "start_time": "2022-10-10T11:34:16.019470",
     "status": "completed"
    },
    "tags": []
   },
   "outputs": [
    {
     "name": "stdout",
     "output_type": "stream",
     "text": [
      "Regularized cost : 0.9544711390490436\n"
     ]
    }
   ],
   "source": [
    "# Checking that compute_cost_reg function works fine, expected output: 0.9544711390490436\n",
    "np.random.seed(1)\n",
    "initial_w = np.random.rand(27) - 0.5\n",
    "initial_b = 0.5\n",
    "lambda_ = 0.5\n",
    "cost = compute_cost_reg(X_mapped, y_train, initial_w, initial_b, lambda_)\n",
    "\n",
    "print(\"Regularized cost :\", cost)"
   ]
  },
  {
   "cell_type": "code",
   "execution_count": 10,
   "id": "abfe8ffc",
   "metadata": {
    "execution": {
     "iopub.execute_input": "2022-10-10T11:34:16.043228Z",
     "iopub.status.busy": "2022-10-10T11:34:16.042923Z",
     "iopub.status.idle": "2022-10-10T11:34:16.056162Z",
     "shell.execute_reply": "2022-10-10T11:34:16.054377Z"
    },
    "papermill": {
     "duration": 0.021913,
     "end_time": "2022-10-10T11:34:16.058941",
     "exception": false,
     "start_time": "2022-10-10T11:34:16.037028",
     "status": "completed"
    },
    "tags": []
   },
   "outputs": [
    {
     "name": "stdout",
     "output_type": "stream",
     "text": [
      "dj_db: 0.07539347940593887\n",
      "First few elements of regularized dj_dw:\n",
      " [-0.01030047  0.01388621  0.05409464  0.00328907]\n"
     ]
    }
   ],
   "source": [
    "#checking that compute_gradient_reg works c\n",
    "np.random.seed(1) \n",
    "initial_w  = np.random.rand(27) - 0.5 \n",
    "initial_b = 0.5 \n",
    "lambda_ = 0.5\n",
    "dj_dw, dj_db = compute_gradient_reg(X_mapped, y_train, initial_w, initial_b, lambda_)\n",
    "\n",
    "print(f\"dj_db: {dj_db}\", )\n",
    "print(f\"First few elements of regularized dj_dw:\\n {dj_dw[:4]}\", )"
   ]
  },
  {
   "cell_type": "code",
   "execution_count": 11,
   "id": "223a21c6",
   "metadata": {
    "execution": {
     "iopub.execute_input": "2022-10-10T11:34:16.070093Z",
     "iopub.status.busy": "2022-10-10T11:34:16.069755Z",
     "iopub.status.idle": "2022-10-10T11:34:51.942527Z",
     "shell.execute_reply": "2022-10-10T11:34:51.941049Z"
    },
    "papermill": {
     "duration": 35.881135,
     "end_time": "2022-10-10T11:34:51.945067",
     "exception": false,
     "start_time": "2022-10-10T11:34:16.063932",
     "status": "completed"
    },
    "tags": []
   },
   "outputs": [],
   "source": [
    "np.random.seed(1)\n",
    "initial_w = np.random.rand(27)-0.5\n",
    "initial_b = 1.\n",
    "\n",
    "lambda_ = 0.01 #regularization parameter                                         \n",
    "iterations = 10000\n",
    "alpha = 0.01\n",
    "epsilon = 0.001\n",
    "w,b, itr, J_history = gradient_descent_reg(X_mapped, y_train, initial_w, initial_b, alpha,epsilon, iterations, lambda_)"
   ]
  },
  {
   "cell_type": "code",
   "execution_count": 12,
   "id": "825e15bf",
   "metadata": {
    "execution": {
     "iopub.execute_input": "2022-10-10T11:34:51.956119Z",
     "iopub.status.busy": "2022-10-10T11:34:51.955807Z",
     "iopub.status.idle": "2022-10-10T11:34:51.963536Z",
     "shell.execute_reply": "2022-10-10T11:34:51.962160Z"
    },
    "papermill": {
     "duration": 0.015343,
     "end_time": "2022-10-10T11:34:51.965400",
     "exception": false,
     "start_time": "2022-10-10T11:34:51.950057",
     "status": "completed"
    },
    "tags": []
   },
   "outputs": [
    {
     "name": "stdout",
     "output_type": "stream",
     "text": [
      "Best values for Weights: [ 0.91027702  1.46555781 -2.56834085 -1.03166397 -1.734913   -0.08934453\n",
      " -0.68618164 -0.46259185 -0.26632204 -1.50235817 -0.13843725 -0.43050343\n",
      " -0.52701864 -0.85771503 -0.62174307 -0.06686036 -0.11613784 -0.21743977\n",
      " -0.62762305 -0.80383641 -0.8182157   0.47666306 -0.4844677   0.20317482\n",
      "  0.04233124  0.27346073 -1.41879601]\n",
      "Best value for b parameters: 1.4244841413727478\n",
      "Those weights produce a cost equals: 0.6442723205868225\n",
      "Gradient Decent reached those values after 10000 iterations.\n"
     ]
    }
   ],
   "source": [
    "print(f\"Best values for Weights: {w}\")\n",
    "print(f\"Best value for b parameters: {b}\")\n",
    "cost = compute_cost_reg(X_mapped,y_train,w,b, lambda_)\n",
    "print(f\"Those weights produce a cost equals: {cost}\")\n",
    "print(f\"Gradient Decent reached those values after {itr} iterations.\")"
   ]
  },
  {
   "cell_type": "code",
   "execution_count": 13,
   "id": "e82200ae",
   "metadata": {
    "execution": {
     "iopub.execute_input": "2022-10-10T11:34:51.976322Z",
     "iopub.status.busy": "2022-10-10T11:34:51.976015Z",
     "iopub.status.idle": "2022-10-10T11:34:52.269605Z",
     "shell.execute_reply": "2022-10-10T11:34:52.268609Z"
    },
    "papermill": {
     "duration": 0.301092,
     "end_time": "2022-10-10T11:34:52.271742",
     "exception": false,
     "start_time": "2022-10-10T11:34:51.970650",
     "status": "completed"
    },
    "tags": []
   },
   "outputs": [
    {
     "data": {
      "image/png": "[encoded data removed]",
      "text/plain": [
       "<Figure size 864x288 with 2 Axes>"
      ]
     },
     "metadata": {
      "needs_background": "light"
     },
     "output_type": "display_data"
    }
   ],
   "source": [
    "## plotting the learning curve to make sure that gradient decent operates correctly and and cost decreases as number of iterations icreases\n",
    "fig, (ax1, ax2) = plt.subplots(1, 2, constrained_layout=True, figsize=(12, 4))\n",
    "ax1.plot(J_history)\n",
    "ax2.plot(100 + np.arange(len(J_history[100:])), J_history[100:])\n",
    "ax1.set_title(\"Cost vs. iteration\");  ax2.set_title(\"Cost vs. iteration (tail)\")\n",
    "ax1.set_ylabel('Cost')             ;  ax2.set_ylabel('Cost') \n",
    "ax1.set_xlabel('iteration step')   ;  ax2.set_xlabel('iteration step') \n",
    "plt.show()"
   ]
  },
  {
   "cell_type": "code",
   "execution_count": 14,
   "id": "f4d1bf7b",
   "metadata": {
    "execution": {
     "iopub.execute_input": "2022-10-10T11:34:52.283718Z",
     "iopub.status.busy": "2022-10-10T11:34:52.283181Z",
     "iopub.status.idle": "2022-10-10T11:34:52.290468Z",
     "shell.execute_reply": "2022-10-10T11:34:52.289865Z"
    },
    "papermill": {
     "duration": 0.01568,
     "end_time": "2022-10-10T11:34:52.292677",
     "exception": false,
     "start_time": "2022-10-10T11:34:52.276997",
     "status": "completed"
    },
    "tags": []
   },
   "outputs": [],
   "source": [
    "def plot_decision_boundary(w, b, X, y):\n",
    "    # Credit to dibgerge on Github for this plotting code\n",
    "     \n",
    "    plot_data(X[:, 0:2], y)\n",
    "    \n",
    "    if X.shape[1] <= 2:\n",
    "        plot_x = np.array([min(X[:, 0]), max(X[:, 0])])\n",
    "        plot_y = (-1. / w[1]) * (w[0] * plot_x + b)\n",
    "        \n",
    "        plt.plot(plot_x, plot_y, c=\"b\")\n",
    "        \n",
    "    else:\n",
    "        u = np.linspace(-1, 1.5, 50)\n",
    "        v = np.linspace(-1, 1.5, 50)\n",
    "        \n",
    "        z = np.zeros((len(u), len(v)))\n",
    "\n",
    "        # Evaluate z = theta*x over the grid\n",
    "        for i in range(len(u)):\n",
    "            for j in range(len(v)):\n",
    "                z[i,j] = sigmoid(np.dot(map_feature(u[i], v[j]), w) + b)\n",
    "        \n",
    "        # important to transpose z before calling contour       \n",
    "        z = z.T\n",
    "        \n",
    "        # Plot z = 0.5\n",
    "        plt.contour(u,v,z, levels = [0.5], colors=\"g\")"
   ]
  },
  {
   "cell_type": "code",
   "execution_count": 15,
   "id": "3a17a3ba",
   "metadata": {
    "execution": {
     "iopub.execute_input": "2022-10-10T11:34:52.304734Z",
     "iopub.status.busy": "2022-10-10T11:34:52.304401Z",
     "iopub.status.idle": "2022-10-10T11:34:52.763601Z",
     "shell.execute_reply": "2022-10-10T11:34:52.762896Z"
    },
    "papermill": {
     "duration": 0.468138,
     "end_time": "2022-10-10T11:34:52.766179",
     "exception": false,
     "start_time": "2022-10-10T11:34:52.298041",
     "status": "completed"
    },
    "tags": []
   },
   "outputs": [
    {
     "data": {
      "image/png": "[encoded data removed]",
      "text/plain": [
       "<Figure size 432x288 with 1 Axes>"
      ]
     },
     "metadata": {
      "needs_background": "light"
     },
     "output_type": "display_data"
    }
   ],
   "source": [
    "#plotting the decision boundry\n",
    "plot_decision_boundary(w, b, X_mapped, y_train)"
   ]
  },
  {
   "cell_type": "code",
   "execution_count": 16,
   "id": "ab372600",
   "metadata": {
    "execution": {
     "iopub.execute_input": "2022-10-10T11:34:52.780041Z",
     "iopub.status.busy": "2022-10-10T11:34:52.779593Z",
     "iopub.status.idle": "2022-10-10T11:34:52.784511Z",
     "shell.execute_reply": "2022-10-10T11:34:52.783149Z"
    },
    "papermill": {
     "duration": 0.013094,
     "end_time": "2022-10-10T11:34:52.786265",
     "exception": false,
     "start_time": "2022-10-10T11:34:52.773171",
     "status": "completed"
    },
    "tags": []
   },
   "outputs": [
    {
     "name": "stdout",
     "output_type": "stream",
     "text": [
      "82.05128205128204\n"
     ]
    }
   ],
   "source": [
    "# use the predict function to make prediction of X_train and test the accuracy of the chosen parameters using accuracy\n",
    "y_pred = predict(X_mapped,w,b)\n",
    "print(accuracy(y_pred, y_train))"
   ]
  },
  {
   "cell_type": "code",
   "execution_count": null,
   "id": "f419446f",
   "metadata": {
    "papermill": {
     "duration": 0.005167,
     "end_time": "2022-10-10T11:34:52.796855",
     "exception": false,
     "start_time": "2022-10-10T11:34:52.791688",
     "status": "completed"
    },
    "tags": []
   },
   "outputs": [],
   "source": []
  }
 ],
 "metadata": {
  "kernelspec": {
   "display_name": "Python 3",
   "language": "python",
   "name": "python3"
  },
  "language_info": {
   "codemirror_mode": {
    "name": "ipython",
    "version": 3
   },
   "file_extension": ".py",
   "mimetype": "text/x-python",
   "name": "python",
   "nbconvert_exporter": "python",
   "pygments_lexer": "ipython3",
   "version": "3.7.12"
  },
  "papermill": {
   "default_parameters": {},
   "duration": 45.917132,
   "end_time": "2022-10-10T11:34:53.422200",
   "environment_variables": {},
   "exception": null,
   "input_path": "__notebook__.ipynb",
   "output_path": "__notebook__.ipynb",
   "parameters": {},
   "start_time": "2022-10-10T11:34:07.505068",
   "version": "2.3.4"
  }
 },
 "nbformat": 4,
 "nbformat_minor": 5
}
